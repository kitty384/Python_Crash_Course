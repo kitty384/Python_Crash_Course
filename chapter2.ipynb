{
 "cells": [
  {
   "cell_type": "code",
   "execution_count": null,
   "metadata": {},
   "outputs": [],
   "source": [
    "name = 'aDD numbers'\n",
    "print(name.upper())\n",
    "print(name.lower())"
   ]
  },
  {
   "cell_type": "code",
   "execution_count": 1,
   "metadata": {},
   "outputs": [
    {
     "name": "stdout",
     "output_type": "stream",
     "text": [
      "hell0ada lovelace!\n"
     ]
    }
   ],
   "source": [
    "first_name='ada'\n",
    "last_name=\"lovelace\"\n",
    "full_name=first_name+\" \"+last_name\n",
    "print('hell0 '+full_name.lower()+'!')"
   ]
  },
  {
   "cell_type": "code",
   "execution_count": 2,
   "metadata": {},
   "outputs": [
    {
     "name": "stdout",
     "output_type": "stream",
     "text": [
      "Langerage:\n",
      "\tpython\n",
      "\tc\n",
      "\tc++\n"
     ]
    }
   ],
   "source": [
    "print('Langerage:\\n\\tpython\\n\\tc\\n\\tc++')"
   ]
  },
  {
   "cell_type": "code",
   "execution_count": 4,
   "metadata": {},
   "outputs": [
    {
     "name": "stdout",
     "output_type": "stream",
     "text": [
      " python\n",
      "python \n",
      "python\n"
     ]
    }
   ],
   "source": [
    "faverite_langerage=' python '\n",
    "print(faverite_langerage.rstrip())\n",
    "print(faverite_langerage.lstrip())\n",
    "print(faverite_langerage.strip())"
   ]
  },
  {
   "cell_type": "code",
   "execution_count": 11,
   "metadata": {},
   "outputs": [
    {
     "name": "stdout",
     "output_type": "stream",
     "text": [
      "Albert Einstein once said, “A person who never made a mistake never tried anything new.”\n",
      "Albert Einstein once said,\"A person who never made a mistake never tried anything new.\"\n",
      "zwl \n",
      "\t zwl    \n",
      "\t    zwl\n"
     ]
    }
   ],
   "source": [
    "saying='Albert Einstein once said, “A person who never made a mistake never tried anything new.”'\n",
    "print(saying)\n",
    "famous_person='Albert Einstein'\n",
    "message=famous_person+' once said,\"A person who never made a mistake never tried anything new.\"'\n",
    "print(message)\n",
    "name='   zwl   '\n",
    "print(name.strip(),'\\n\\t',name.lstrip(),'\\n\\t',name.rstrip())"
   ]
  },
  {
   "cell_type": "code",
   "execution_count": 20,
   "metadata": {},
   "outputs": [
    {
     "name": "stdout",
     "output_type": "stream",
     "text": [
      "Happy 23rd Birthday\n",
      "8\n",
      "8\n",
      "8\n",
      "8\n",
      "my favorite number is 3\n",
      "The Zen of Python, by Tim Peters\n",
      "\n",
      "Beautiful is better than ugly.\n",
      "Explicit is better than implicit.\n",
      "Simple is better than complex.\n",
      "Complex is better than complicated.\n",
      "Flat is better than nested.\n",
      "Sparse is better than dense.\n",
      "Readability counts.\n",
      "Special cases aren't special enough to break the rules.\n",
      "Although practicality beats purity.\n",
      "Errors should never pass silently.\n",
      "Unless explicitly silenced.\n",
      "In the face of ambiguity, refuse the temptation to guess.\n",
      "There should be one-- and preferably only one --obvious way to do it.\n",
      "Although that way may not be obvious at first unless you're Dutch.\n",
      "Now is better than never.\n",
      "Although never is often better than *right* now.\n",
      "If the implementation is hard to explain, it's a bad idea.\n",
      "If the implementation is easy to explain, it may be a good idea.\n",
      "Namespaces are one honking great idea -- let's do more of those!\n"
     ]
    }
   ],
   "source": [
    "0.2+0.1\n",
    "age=23\n",
    "message=\"Happy \"+ str(age)+\"rd Birthday\"\n",
    "print(message)\n",
    "3/2\n",
    "print(5+3)\n",
    "print(4*2)\n",
    "print(6+2)\n",
    "print(int(16/2))\n",
    "num=3\n",
    "print(\"my favorite number is \"+str(num))\n",
    "import this\n"
   ]
  }
 ],
 "metadata": {
  "kernelspec": {
   "display_name": "Python 3",
   "language": "python",
   "name": "python3"
  },
  "language_info": {
   "codemirror_mode": {
    "name": "ipython",
    "version": 3
   },
   "file_extension": ".py",
   "mimetype": "text/x-python",
   "name": "python",
   "nbconvert_exporter": "python",
   "pygments_lexer": "ipython3",
   "version": "3.10.10"
  }
 },
 "nbformat": 4,
 "nbformat_minor": 2
}
