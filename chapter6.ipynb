{
 "cells": [
  {
   "cell_type": "code",
   "execution_count": 3,
   "metadata": {},
   "outputs": [
    {
     "name": "stdout",
     "output_type": "stream",
     "text": [
      "green\n",
      "5\n",
      "You just earned 5 points!\n",
      "{'color': 'green', 'points': 5, 'x_position': 0, 'y_position': 25}\n"
     ]
    }
   ],
   "source": [
    "alien_0={'color':'green','points':5}\n",
    "print(alien_0['color'])\n",
    "print(alien_0['points'])\n",
    "new_points=alien_0['points']\n",
    "print(\"You just earned \"+str(new_points)+' points!')\n",
    "alien_0['x_position']=0\n",
    "alien_0['y_position']=25\n",
    "print(alien_0)"
   ]
  },
  {
   "cell_type": "code",
   "execution_count": 8,
   "metadata": {},
   "outputs": [
    {
     "name": "stdout",
     "output_type": "stream",
     "text": [
      "New x-position: 2\n",
      "{'color': 'green', 'x_position': 2, 'y_position': 25, 'speed': 'medium'}\n"
     ]
    }
   ],
   "source": [
    "alien_0={}\n",
    "alien_0['color']='green'\n",
    "alien_0['points']=5\n",
    "alien_0['x_position']=0\n",
    "alien_0['y_position']=25\n",
    "# print(alien_0)\n",
    "# alien_0['color']='yellow'\n",
    "# print(\"The alien is now \"+alien_0['color']+'.')\n",
    "alien_0['speed']='medium'\n",
    "if alien_0['speed']=='slow':\n",
    "    x_increment=1\n",
    "elif alien_0['speed']=='medium':\n",
    "    x_increment=2\n",
    "elif alien_0['speed']=='fast':\n",
    "    x_increment=3\n",
    "alien_0['x_position']=alien_0['x_position']+x_increment\n",
    "print(\"New x-position: \"+str(alien_0['x_position']))\n",
    "del alien_0['points']\n",
    "print(alien_0)"
   ]
  },
  {
   "cell_type": "code",
   "execution_count": 33,
   "metadata": {},
   "outputs": [
    {
     "name": "stdout",
     "output_type": "stream",
     "text": [
      "Thank you for taking the poll, Jen!\n",
      "Thank you for taking the poll, Sarah!\n",
      "Thank you for taking the poll, Edward!\n",
      "Thank you for taking the poll, Phil!\n",
      "Erin,please take the poll.\n"
     ]
    }
   ],
   "source": [
    "favorite_languages={'jen':'python'\n",
    "                    ,'sarah':'c'\n",
    "                    ,'edward':'ruby'\n",
    "                    ,'phil':'python'}\n",
    "should_poll=['jen','sarah','edward','phil','erin']\n",
    "for name in should_poll:\n",
    "    if name in favorite_languages.keys():\n",
    "        print(\"Thank you for taking the poll, \"+name.title()+'!')\n",
    "    else:\n",
    "        print(name.title()+\",please take the poll.\")\n",
    "# print(\"Sarah's favorite language is \"+favorite_languages['sarah'].title()+'.')\n",
    "# for name,language in favorite_languages.items():\n",
    "#     print(name.title()+\" 's favorite langugae is \"+language.title()+'.')\n",
    "# friends=['phil','sarah']\n",
    "# for name in favorite_languages:\n",
    "#     # print(\"Key is \"+name.title())\n",
    "#     if name in friends:\n",
    "#         print(\"Hi, \"+name.title()+\". I see your favorite language is \"+favorite_languages[name].title()+\"!\")\n",
    "# if 'erin' not in favorite_languages:\n",
    "#     print(\"Erin please take our poll!\")\n",
    "# new=favorite_languages.keys()\n",
    "# print(new)  \n",
    "# for name in sorted(favorite_languages.keys()):\n",
    "#     print(name.title()+\", thank you for taking the poll.\")\n",
    "# for language in set(favorite_languages.values()):\n",
    "#     print(language.title())"
   ]
  },
  {
   "cell_type": "code",
   "execution_count": 31,
   "metadata": {},
   "outputs": [
    {
     "name": "stdout",
     "output_type": "stream",
     "text": [
      "print means print the content\n",
      "if means judge the condition of the program\n",
      "elif means else if\n",
      "else means if the condition is not true,then do this\n",
      "for means for loop\n",
      "while means while loop\n",
      "list means a collection of items in a particular order\n"
     ]
    }
   ],
   "source": [
    "acqiantance={'first_name':'zhang','last_name':'san','age':18,'city':'beijing'}\n",
    "favorite_number={'zhang':1,'li':2,'wang':3,'zhao':4,'qian':5}\n",
    "# for name,number in favorite_number.items():\n",
    "#     print(name.title()+\" 's favorite number is \"+str(number)+'.')\n",
    "vocabularies={'print':'print the content',\n",
    "              'if':'judge the condition of the program',\n",
    "              'elif':'else if','else':'if the condition is not true,then do this',\n",
    "              'for':'for loop','while':'while loop',\n",
    "                'list':'a collection of items in a particular order',\n",
    "              }\n",
    "for key,value in vocabularies.items():\n",
    "    print(key+\" means \"+value)"
   ]
  },
  {
   "cell_type": "code",
   "execution_count": 15,
   "metadata": {},
   "outputs": [
    {
     "name": "stdout",
     "output_type": "stream",
     "text": [
      "Key is username\n",
      "vlaue is efermi\n",
      "Key is first\n",
      "vlaue is enrico\n",
      "Key is last\n",
      "vlaue is fermi\n",
      "fermi\n"
     ]
    }
   ],
   "source": [
    "user_0={'username':'efermi','first':'enrico','last':'fermi'}\n",
    "for k,v in user_0.items():\n",
    "    print(\"Key is \"+k)\n",
    "    print(\"vlaue is \"+v)\n",
    "print(v)"
   ]
  },
  {
   "cell_type": "code",
   "execution_count": 32,
   "metadata": {},
   "outputs": [
    {
     "name": "stdout",
     "output_type": "stream",
     "text": [
      "Nile runs through Egypt\n",
      "Changjiang runs through China\n",
      "Huanghe runs through China\n"
     ]
    }
   ],
   "source": [
    "river={'nile':'egypt','changjiang':'china','huanghe':'china'}\n",
    "for k,v in river.items():\n",
    "    print(k.title()+\" runs through \"+v.title())"
   ]
  },
  {
   "cell_type": "code",
   "execution_count": 35,
   "metadata": {},
   "outputs": [
    {
     "name": "stdout",
     "output_type": "stream",
     "text": [
      "{'color': 'green', 'points': 5}\n",
      "{'color': 'yellow', 'points': 10}\n",
      "{'coloe': 'red', 'points': 15}\n"
     ]
    }
   ],
   "source": [
    "alien_0={'color':'green','points':5}\n",
    "alien_1={'color':'yellow','points':10}\n",
    "alien_2={'coloe':'red','points':15}\n",
    "aliens=[alien_0,alien_1,alien_2]\n",
    "for alien in aliens:\n",
    "    print(alien)"
   ]
  },
  {
   "cell_type": "code",
   "execution_count": 39,
   "metadata": {},
   "outputs": [
    {
     "name": "stdout",
     "output_type": "stream",
     "text": [
      "{'color': 'green', 'points': 5, 'speed': 'slow'}\n",
      "{'color': 'green', 'points': 5, 'speed': 'slow'}\n",
      "{'color': 'green', 'points': 5, 'speed': 'slow'}\n",
      "{'color': 'green', 'points': 5, 'speed': 'slow'}\n",
      "{'color': 'green', 'points': 5, 'speed': 'slow'}\n",
      "Total number of aliens:30\n"
     ]
    }
   ],
   "source": [
    "aliens=[]\n",
    "for alien_number in range(0,30):\n",
    "    new_alien={'color':'green','points':5,'speed':'slow'}\n",
    "    aliens.append(new_alien)\n",
    "for alien in aliens[:5]:\n",
    "    print(alien)\n",
    "print(\"Total number of aliens:\"+str(len(aliens)))\n",
    "for alien in aliens[:3]:\n",
    "    if alien['color']=='green':\n",
    "        alien['color']='yellow'\n",
    "        alien['speed']='medium'\n",
    "        alien['points']=10\n",
    "    elif alien['color']=='yellow':\n",
    "        alien['color']='red'\n",
    "        alien['speed']='fast'\n",
    "        alien['points'] =15\n"
   ]
  },
  {
   "cell_type": "code",
   "execution_count": 41,
   "metadata": {},
   "outputs": [
    {
     "name": "stdout",
     "output_type": "stream",
     "text": [
      "You ordered a thick crust pizza with the following toppings: ['mushrooms', 'extra cheese', 'pepperoni']\n"
     ]
    }
   ],
   "source": [
    "pizza={'crust':'thick','toppings':['mushrooms','extra cheese','pepperoni']}\n",
    "print(\"You ordered a \"+pizza['crust']+' crust pizza with the following toppings:',pizza['toppings'])"
   ]
  },
  {
   "cell_type": "code",
   "execution_count": 47,
   "metadata": {},
   "outputs": [
    {
     "name": "stdout",
     "output_type": "stream",
     "text": [
      "\n",
      "Jen's favorite languages are :\n",
      "\tPython\n",
      "\tRuby\n",
      "\n",
      "Sarah's favorite language is :\n",
      "\tC\n",
      "\n",
      "Edward's favorite languages are :\n",
      "\tRuby\n",
      "\tGo\n",
      "\n",
      "Phil's favorite languages are :\n",
      "\tPython\n",
      "\tHaskell\n"
     ]
    }
   ],
   "source": [
    "favorite_languages={'jen':['python','ruby'],'sarah':['c'],'edward':['ruby','go'],'phil':['python','haskell']}\n",
    "for key,value in favorite_languages.items():\n",
    "    if len(value)>1:\n",
    "        print(\"\\n\"+key.title()+\"'s favorite languages are :\")\n",
    "        for v in value:\n",
    "            print('\\t'+v.title())\n",
    "    else:\n",
    "        print(\"\\n\"+key.title()+\"'s favorite language is :\")\n",
    "        print('\\t'+value[0].title())\n"
   ]
  },
  {
   "cell_type": "code",
   "execution_count": 49,
   "metadata": {},
   "outputs": [
    {
     "name": "stdout",
     "output_type": "stream",
     "text": [
      "\n",
      "Username:aeinstein\n",
      "\tFull name:alberteinstein\n",
      "\tLocation:princeton\n",
      "\n",
      "Username:mcurie\n",
      "\tFull name:mariecurie\n",
      "\tLocation:paris\n"
     ]
    }
   ],
   "source": [
    "users={'aeinstein':{'first':'albert','last':'einstein','location':'princeton'},\n",
    "      'mcurie':{'first':'marie','last':'curie','location':'paris'}}\n",
    "for user,user_info in users.items():\n",
    "    print(\"\\nUsername:\"+user)\n",
    "    print(\"\\tFull name:\"+user_info['first']+user_info['last'])\n",
    "    print(\"\\tLocation:\"+user_info['location'])"
   ]
  },
  {
   "cell_type": "code",
   "execution_count": 50,
   "metadata": {},
   "outputs": [
    {
     "name": "stdout",
     "output_type": "stream",
     "text": [
      "\n",
      "Name:zhangsan\n",
      "\tFull name:zhangsan\n",
      "\tAge:18\n",
      "\tCity:beijing\n",
      "\n",
      "Name:lisi\n",
      "\tFull name:lisi\n",
      "\tAge:20\n",
      "\tCity:shanghai\n",
      "\n",
      "Name:wangwu\n",
      "\tFull name:wangwu\n",
      "\tAge:22\n",
      "\tCity:guangzhou\n"
     ]
    }
   ],
   "source": [
    "people={'zhangsan':{'first_name':'zhang','last_name':'san','age':18,'city':'beijing'},\n",
    "        'lisi':{'first_name':'li','last_name':'si','age':20,'city':'shanghai'},\n",
    "        'wangwu':{'first_name':'wang','last_name':'wu','age':22,'city':'guangzhou'}\n",
    "        }\n",
    "for name,name_info in people.items():\n",
    "    print(\"\\nName:\"+name)\n",
    "    print(\"\\tFull name:\"+name_info['first_name']+name_info['last_name'])\n",
    "    print(\"\\tAge:\"+str(name_info['age']))\n",
    "    print(\"\\tCity:\"+name_info['city'])"
   ]
  },
  {
   "cell_type": "code",
   "execution_count": 51,
   "metadata": {},
   "outputs": [
    {
     "name": "stdout",
     "output_type": "stream",
     "text": [
      "\n",
      "Pet:dog\n",
      "\tOwer:zhangsan\n",
      "\tKind:dog\n",
      "\n",
      "Pet:cat\n",
      "\tOwer:lisi\n",
      "\tKind:cat\n",
      "\n",
      "Pet:pig\n",
      "\tOwer:wangwu\n",
      "\tKind:pig\n"
     ]
    }
   ],
   "source": [
    "pets={'dog':{'owner':'zhangsan','kind':'dog'},\n",
    "      'cat':{'owner':'lisi','kind':'cat'},\n",
    "      'pig':{'owner':'wangwu','kind':'pig'}\n",
    "      }\n",
    "for pet,pet_info in pets.items():\n",
    "    print(\"\\nPet:\"+pet)\n",
    "    print(\"\\tOwer:\"+pet_info['owner'])\n",
    "    print(\"\\tKind:\"+pet_info['kind'])"
   ]
  },
  {
   "cell_type": "code",
   "execution_count": 53,
   "metadata": {},
   "outputs": [
    {
     "name": "stdout",
     "output_type": "stream",
     "text": [
      "\n",
      "Zhangsanlove places are:\n",
      "\tBeijing\n",
      "\tShanghai\n",
      "\tGuangzhou\n",
      "\n",
      "Lisilove places are:\n",
      "\tTianjin\n",
      "\tChongqing\n",
      "\tChengdu\n",
      "\n",
      "Wangwulove places are:\n",
      "\tShenzhen\n",
      "\tHangzhou\n",
      "\tNanjing\n",
      "{'zhangsan': ['beijing', 'shanghai', 'guangzhou'], 'lisi': ['tianjin', 'chongqing', 'chengdu'], 'wangwu': ['shenzhen', 'hangzhou', 'nanjing'], 'zwl': {'hefei', 'huainan', 'wuhu'}}\n"
     ]
    }
   ],
   "source": [
    "love_places={'zhangsan':['beijing','shanghai','guangzhou'],\n",
    "                'lisi':['tianjin','chongqing','chengdu'],\n",
    "                'wangwu':['shenzhen','hangzhou','nanjing']\n",
    "                }\n",
    "\n",
    "for name,place in love_places.items():\n",
    "    print(\"\\n\"+name.title()+\"love places are:\")\n",
    "    for p in place:\n",
    "        print(\"\\t\"+p.title())\n",
    "love_places['zwl']={'hefei','wuhu','huainan'}\n",
    "print(love_places)"
   ]
  },
  {
   "cell_type": "code",
   "execution_count": 55,
   "metadata": {},
   "outputs": [
    {
     "name": "stdout",
     "output_type": "stream",
     "text": [
      "{'zhangsan': ['beijing', 'shanghai', 'guangzhou'], 'lisi': ['tianjin', 'chongqing', 'chengdu'], 'wangwu': ['shenzhen', 'hangzhou', 'nanjing']}\n"
     ]
    }
   ],
   "source": [
    "love_places={'zhangsan':['beijing','shanghai','guangzhou'],\n",
    "                'lisi':['tianjin','chongqing','chengdu'],\n",
    "                'wangwu':['shenzhen','hangzhou','nanjing']\n",
    "                }\n",
    "new1=love_places.copy()\n",
    "new1['zwl']=['hefei','wuhu','huainan']\n",
    "print(love_places)\n",
    "# new2=love_places.copy()"
   ]
  },
  {
   "cell_type": "code",
   "execution_count": 57,
   "metadata": {},
   "outputs": [
    {
     "name": "stdout",
     "output_type": "stream",
     "text": [
      "{'name': None, 'age': None, 'city': None}\n",
      "{'age': None, 'city': None}\n"
     ]
    }
   ],
   "source": [
    "list=['name','age','city']\n",
    "dicts={}\n",
    "dicts=dicts.fromkeys(list)\n",
    "print(dicts)\n",
    "dicts.pop('name')\n",
    "print(dicts)"
   ]
  }
 ],
 "metadata": {
  "kernelspec": {
   "display_name": "Python 3",
   "language": "python",
   "name": "python3"
  },
  "language_info": {
   "codemirror_mode": {
    "name": "ipython",
    "version": 3
   },
   "file_extension": ".py",
   "mimetype": "text/x-python",
   "name": "python",
   "nbconvert_exporter": "python",
   "pygments_lexer": "ipython3",
   "version": "3.10.10"
  }
 },
 "nbformat": 4,
 "nbformat_minor": 2
}
