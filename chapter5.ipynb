{
 "cells": [
  {
   "cell_type": "code",
   "execution_count": 1,
   "metadata": {},
   "outputs": [
    {
     "name": "stdout",
     "output_type": "stream",
     "text": [
      "Audi\n",
      "BMW\n",
      "Subaru\n",
      "Toyota\n"
     ]
    }
   ],
   "source": [
    "cars=['audi','bmw','subaru','toyota']\n",
    "for car in cars:\n",
    "    if car=='bmw':\n",
    "        print(car.upper())\n",
    "    else:\n",
    "        print(car.title())"
   ]
  },
  {
   "cell_type": "code",
   "execution_count": 3,
   "metadata": {},
   "outputs": [
    {
     "name": "stdout",
     "output_type": "stream",
     "text": [
      "True\n",
      "True\n"
     ]
    }
   ],
   "source": [
    "car='bwm'\n",
    "print(car=='bwm')\n",
    "car=\"AuDi\"\n",
    "print(car.lower()==\"audi\")"
   ]
  },
  {
   "cell_type": "code",
   "execution_count": 4,
   "metadata": {},
   "outputs": [
    {
     "name": "stdout",
     "output_type": "stream",
     "text": [
      "Hold the Beef!\n"
     ]
    }
   ],
   "source": [
    "request_topping='mushrooms'\n",
    "if request_topping!='Beef':\n",
    "    print(\"Hold the Beef!\")"
   ]
  },
  {
   "cell_type": "code",
   "execution_count": 5,
   "metadata": {},
   "outputs": [
    {
     "name": "stdout",
     "output_type": "stream",
     "text": [
      "That is not the correct answer.Please try again!\n"
     ]
    }
   ],
   "source": [
    "answer=17\n",
    "if answer!=42:\n",
    "    print(\"That is not the correct answer.Please try again!\")"
   ]
  },
  {
   "cell_type": "code",
   "execution_count": 6,
   "metadata": {},
   "outputs": [
    {
     "data": {
      "text/plain": [
       "False"
      ]
     },
     "execution_count": 6,
     "metadata": {},
     "output_type": "execute_result"
    }
   ],
   "source": [
    "age_0=12\n",
    "age_1=18\n",
    "age_0>=18 and age_1<=20\n"
   ]
  },
  {
   "cell_type": "code",
   "execution_count": 8,
   "metadata": {},
   "outputs": [
    {
     "data": {
      "text/plain": [
       "False"
      ]
     },
     "execution_count": 8,
     "metadata": {},
     "output_type": "execute_result"
    }
   ],
   "source": [
    "request_toppings=['mushrooms','onions','pineapple']\n",
    "'mushrooms' in request_toppings\n",
    "'pepperoni'in request_toppings"
   ]
  },
  {
   "cell_type": "code",
   "execution_count": 9,
   "metadata": {},
   "outputs": [
    {
     "name": "stdout",
     "output_type": "stream",
     "text": [
      "Marie, you can post a response if you wish.\n"
     ]
    }
   ],
   "source": [
    "banned_user=['admin','eric','jack','lily','tom']\n",
    "user='marie'\n",
    "if user not in banned_user:\n",
    "    print(user.title()+', you can post a response if you wish.')"
   ]
  },
  {
   "cell_type": "code",
   "execution_count": 10,
   "metadata": {},
   "outputs": [],
   "source": [
    "game_activate=True\n",
    "car='bmw'\n",
    "if car==game_activate:\n",
    "    print(\"well done!\")"
   ]
  },
  {
   "cell_type": "code",
   "execution_count": 11,
   "metadata": {},
   "outputs": [
    {
     "name": "stdout",
     "output_type": "stream",
     "text": [
      "Is car == 'subasu'? I predict True.\n",
      "True\n"
     ]
    }
   ],
   "source": [
    "car='subaru'\n",
    "print(\"Is car == 'subasu'? I predict True.\")\n",
    "print(car=='subaru')"
   ]
  },
  {
   "cell_type": "code",
   "execution_count": 14,
   "metadata": {},
   "outputs": [
    {
     "name": "stdout",
     "output_type": "stream",
     "text": [
      "Sorry,you are too young to vote.\n",
      "Please register to vote as soon as you turn 18!\n"
     ]
    }
   ],
   "source": [
    "age=17\n",
    "if age>=18:\n",
    "    print(\"You are old enouge to vote!\")\n",
    "    print(\"Have you registered to vote yet?\")\n",
    "else:\n",
    "    print(\"Sorry,you are too young to vote.\")\n",
    "    print(\"Please register to vote as soon as you turn 18!\")"
   ]
  },
  {
   "cell_type": "code",
   "execution_count": 15,
   "metadata": {},
   "outputs": [
    {
     "name": "stdout",
     "output_type": "stream",
     "text": [
      "Your admission cost is $5.\n"
     ]
    }
   ],
   "source": [
    "age=12\n",
    "if age<4:\n",
    "    print(\"your admission cost is $0.\")\n",
    "elif age<18:\n",
    "    print(\"Your admission cost is $5.\")\n",
    "else:\n",
    "    print(\"Your admission cost is $10.\")"
   ]
  },
  {
   "cell_type": "code",
   "execution_count": 18,
   "metadata": {},
   "outputs": [
    {
     "name": "stdout",
     "output_type": "stream",
     "text": [
      "Your admission costis $5.\n"
     ]
    }
   ],
   "source": [
    "age=67\n",
    "if age<4:\n",
    "    price=0\n",
    "elif age<18:\n",
    "    price=5\n",
    "elif age<65:\n",
    "    price=10\n",
    "elif age>=65:\n",
    "    price=5\n",
    "print(\"Your admission costis $\"+str(price)+'.')"
   ]
  },
  {
   "cell_type": "code",
   "execution_count": 24,
   "metadata": {},
   "outputs": [
    {
     "name": "stdout",
     "output_type": "stream",
     "text": [
      "Adding mushrooms.\n",
      "Adding extra cheese.\n",
      "\n",
      "Finished making your pizza!\n"
     ]
    }
   ],
   "source": [
    "request_toppings=['mushrooms','green peppers','extra cheese']\n",
    "if 'mushrooms'in request_toppings:\n",
    "    print(\"Adding mushrooms.\")\n",
    "if 'pepperoni'in request_toppings:\n",
    "    print(\"Adding pepperoni.\")\n",
    "if 'extra cheese' in request_toppings:\n",
    "    print(\"Adding extra cheese.\")\n",
    "\n",
    "print(\"\\nFinished making your pizza!\")"
   ]
  },
  {
   "cell_type": "code",
   "execution_count": 27,
   "metadata": {},
   "outputs": [
    {
     "name": "stdout",
     "output_type": "stream",
     "text": [
      "You just earned 15 points!\n"
     ]
    }
   ],
   "source": [
    "alien_color='red'\n",
    "if alien_color=='green':\n",
    "    print(\"You just earned 5 points!\")\n",
    "# else:\n",
    "#     print(\"You just earned 10 points!\")\n",
    "elif alien_color=='yellow':\n",
    "    print(\"You just earned 10 points!\")\n",
    "elif alien_color=='red':\n",
    "    print(\"You just earned 15 points!\")\n"
   ]
  },
  {
   "cell_type": "code",
   "execution_count": null,
   "metadata": {},
   "outputs": [],
   "source": [
    "if age<2:\n",
    "    print(\"You are a baby!\")\n",
    "elif age<4:\n",
    "    print(\"You are a toddler!\")\n",
    "elif age>=4 and age<=13:\n",
    "    print(\"You are a kid!\")\n",
    "elif age>=13 and age<=20:\n",
    "    print(\"You are a teenager!\")\n",
    "elif age>=20 and age<=65:\n",
    "    print(\"You are an adult!\")\n",
    "else:\n",
    "    print(\"You are an older!\")"
   ]
  },
  {
   "cell_type": "code",
   "execution_count": 28,
   "metadata": {},
   "outputs": [
    {
     "name": "stdout",
     "output_type": "stream",
     "text": [
      "You really like apple!\n",
      "You don't like watermelon!\n"
     ]
    }
   ],
   "source": [
    "love_fruits=['apple','banana','orange','grape']\n",
    "if 'apple' in love_fruits:\n",
    "    print(\"You really like apple!\")\n",
    "if 'watermelon' not in love_fruits:\n",
    "    print(\"You don't like watermelon!\")"
   ]
  },
  {
   "cell_type": "code",
   "execution_count": 30,
   "metadata": {},
   "outputs": [
    {
     "name": "stdout",
     "output_type": "stream",
     "text": [
      "Are you sure you want a plain pizza?\n"
     ]
    }
   ],
   "source": [
    "# request_toppings=['mushrooms','green peppers','extra cheese']\n",
    "request_toppings=[]\n",
    "if request_toppings:\n",
    "    for request_topping in request_toppings:\n",
    "        if request_topping=='green peppers':\n",
    "            print(\"Sorry,we are out of green peppers right now.\")\n",
    "        else:\n",
    "            print(\"Adding \"+request_topping+\".\")\n",
    "    print(\"\\nFinished making your pizza!\")\n",
    "else:\n",
    "    print(\"Are you sure you want a plain pizza?\")"
   ]
  },
  {
   "cell_type": "code",
   "execution_count": 31,
   "metadata": {},
   "outputs": [
    {
     "name": "stdout",
     "output_type": "stream",
     "text": [
      "Adding mushrooms.\n",
      "We don't have french fries.\n",
      "Adding extra cheese.\n"
     ]
    }
   ],
   "source": [
    "available_toppings=['mushrooms','olives','green peppers','pepperoni','pineapple','extra cheese']\n",
    "request_toppings=['mushrooms','french fries','extra cheese']\n",
    "for request_topping in request_toppings:\n",
    "    if request_topping in available_toppings:\n",
    "        print(\"Adding \"+request_topping+'.')\n",
    "    else:\n",
    "        print(\"We don't have \"+request_topping+'.')"
   ]
  },
  {
   "cell_type": "code",
   "execution_count": 33,
   "metadata": {},
   "outputs": [
    {
     "name": "stdout",
     "output_type": "stream",
     "text": [
      "Hello admin,would you like to see a status report?\n",
      "Hello Eric, thank you for logging in again.\n",
      "Hello Jack, thank you for logging in again.\n",
      "Hello Lily, thank you for logging in again.\n",
      "Hello Tom, thank you for logging in again.\n"
     ]
    }
   ],
   "source": [
    "usernames=['admin','eric','jack','lily','tom']\n",
    "if usernames:\n",
    "    for user in usernames:\n",
    "        if user=='admin':\n",
    "            print(\"Hello admin,would you like to see a status report?\")\n",
    "        else:\n",
    "            print(\"Hello \"+user.title()+\", thank you for logging in again.\")\n",
    "else:\n",
    "    print(\"We need to find some users!\")"
   ]
  },
  {
   "cell_type": "code",
   "execution_count": 36,
   "metadata": {},
   "outputs": [
    {
     "name": "stdout",
     "output_type": "stream",
     "text": [
      "Sorry, the username eric has been used.\n",
      "Sorry, the username jack has been used.\n",
      "Sorry, the username lily has been used.\n",
      "The username marie is available.\n",
      "The username jane is available.\n"
     ]
    }
   ],
   "source": [
    "current_users=['admin','eric','jack','lily','tom']\n",
    "lower_current_users=[user.lower() for user in current_users]\n",
    "new_users=['eric','jack','lily','marie','jane']\n",
    "for user in new_users:\n",
    "    if user.lower() in lower_current_users:\n",
    "        print(\"Sorry, the username \"+user+\" has been used.\")\n",
    "    else:\n",
    "        print(\"The username \"+user+\" is available.\")"
   ]
  },
  {
   "cell_type": "code",
   "execution_count": 37,
   "metadata": {},
   "outputs": [
    {
     "name": "stdout",
     "output_type": "stream",
     "text": [
      "1st.\n",
      "2nd.\n",
      "3rd.\n",
      "4th.\n",
      "5th.\n",
      "6th.\n",
      "7th.\n",
      "8th.\n",
      "9th.\n"
     ]
    }
   ],
   "source": [
    "nums=list(range(1,10,1))\n",
    "for num in nums:\n",
    "    if num==1:\n",
    "        print(str(num)+'st.')\n",
    "    elif num==2:\n",
    "        print(str(num)+'nd.')\n",
    "    elif num==3:\n",
    "        print(str(num)+\"rd.\")\n",
    "    else:\n",
    "        print(str(num)+'th.')"
   ]
  }
 ],
 "metadata": {
  "kernelspec": {
   "display_name": "Python 3",
   "language": "python",
   "name": "python3"
  },
  "language_info": {
   "codemirror_mode": {
    "name": "ipython",
    "version": 3
   },
   "file_extension": ".py",
   "mimetype": "text/x-python",
   "name": "python",
   "nbconvert_exporter": "python",
   "pygments_lexer": "ipython3",
   "version": "3.10.10"
  }
 },
 "nbformat": 4,
 "nbformat_minor": 2
}
