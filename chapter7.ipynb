{
 "cells": [
  {
   "cell_type": "code",
   "execution_count": 2,
   "metadata": {},
   "outputs": [
    {
     "name": "stdout",
     "output_type": "stream",
     "text": [
      "Hello everyone\n"
     ]
    }
   ],
   "source": [
    "message=input(\"Tell me something, and I will repeat it back to you:\")\n",
    "print(message)"
   ]
  },
  {
   "cell_type": "code",
   "execution_count": 3,
   "metadata": {},
   "outputs": [
    {
     "name": "stdout",
     "output_type": "stream",
     "text": [
      "Hello, Zwl!\n"
     ]
    }
   ],
   "source": [
    "name=input(\"Please enter your name:\")\n",
    "print(\"Hello, \"+name.title()+\"!\")"
   ]
  },
  {
   "cell_type": "code",
   "execution_count": 4,
   "metadata": {},
   "outputs": [
    {
     "name": "stdout",
     "output_type": "stream",
     "text": [
      "Hello, Zwl!\n"
     ]
    }
   ],
   "source": [
    "prompt=\"If you tell us who you are, we can personalize the messages you see.\"\n",
    "name=input(prompt)\n",
    "print(\"Hello, \"+name.title()+\"!\")"
   ]
  },
  {
   "cell_type": "code",
   "execution_count": 7,
   "metadata": {},
   "outputs": [
    {
     "name": "stdout",
     "output_type": "stream",
     "text": [
      "21\n",
      "22\n"
     ]
    }
   ],
   "source": [
    "age=input(\"How old are you?\")\n",
    "print(age)\n",
    "print(int(age)+1)"
   ]
  },
  {
   "cell_type": "code",
   "execution_count": 8,
   "metadata": {},
   "outputs": [
    {
     "name": "stdout",
     "output_type": "stream",
     "text": [
      "The number 75 is odd.\n"
     ]
    }
   ],
   "source": [
    "number=input(\"Input a number,and I will tell you if it's even or odd:\")\n",
    "flags=int(number)%2\n",
    "if flags==0:\n",
    "    print(\"The number \"+number+\" is even.\")\n",
    "else:\n",
    "    print(\"The number \"+number+\" is odd.\")"
   ]
  },
  {
   "cell_type": "code",
   "execution_count": 9,
   "metadata": {},
   "outputs": [
    {
     "name": "stdout",
     "output_type": "stream",
     "text": [
      "There is a table\n"
     ]
    }
   ],
   "source": [
    "order=input(\"How many people are there?\")\n",
    "if int(order)>8:\n",
    "    print(\"Sorry,there is no table.\")\n",
    "else:\n",
    "    print(\"There is a table\")"
   ]
  },
  {
   "cell_type": "code",
   "execution_count": 10,
   "metadata": {},
   "outputs": [
    {
     "name": "stdout",
     "output_type": "stream",
     "text": [
      "1\n",
      "2\n",
      "3\n",
      "4\n",
      "5\n"
     ]
    }
   ],
   "source": [
    "current_number=1\n",
    "while current_number <= 5:\n",
    "    print(current_number)\n",
    "    current_number += 1"
   ]
  },
  {
   "cell_type": "code",
   "execution_count": 13,
   "metadata": {},
   "outputs": [],
   "source": [
    "prompt = \"Tell me something,and I will repeat it back to you:\"\n",
    "prompt += \"\\nEnter 'quit' to end the program.\"\n",
    "message = \"\"\n",
    "# while message != 'quit':\n",
    "#     message = input(prompt)\n",
    "#     if message !='quit':\n",
    "#         print(message)\n",
    "activate = True\n",
    "while activate:\n",
    "    message = input(prompt)\n",
    "    if message != 'quit':\n",
    "        print(message)\n",
    "    else:\n",
    "        activate = False"
   ]
  },
  {
   "cell_type": "code",
   "execution_count": 14,
   "metadata": {},
   "outputs": [
    {
     "name": "stdout",
     "output_type": "stream",
     "text": [
      "Hefei\n",
      "Beijing\n",
      "Beijing\n"
     ]
    }
   ],
   "source": [
    "prompt = \"Please enter the name of a city you have visited:\"\n",
    "prompt += \"\\nEnter 'quit' when you are fininshed.\"\n",
    "while True:\n",
    "    city = input(prompt)\n",
    "    if city =='quit':\n",
    "        break\n",
    "    else:\n",
    "        print(city.title())"
   ]
  },
  {
   "cell_type": "code",
   "execution_count": 15,
   "metadata": {},
   "outputs": [
    {
     "name": "stdout",
     "output_type": "stream",
     "text": [
      "1\n",
      "3\n",
      "5\n",
      "7\n",
      "9\n"
     ]
    }
   ],
   "source": [
    "current_number = 0\n",
    "while current_number < 10:\n",
    "    current_number += 1\n",
    "    if current_number % 2 == 0:\n",
    "        continue\n",
    "    else:\n",
    "        print(current_number)"
   ]
  },
  {
   "cell_type": "code",
   "execution_count": 16,
   "metadata": {},
   "outputs": [
    {
     "name": "stdout",
     "output_type": "stream",
     "text": [
      "We will add mushroonto the pizza.\n",
      "We will add peppniosto the pizza.\n",
      "We will add quirto the pizza.\n"
     ]
    }
   ],
   "source": [
    "requested_toppings = []\n",
    "prompt = \"Please enter the toppings you want to add to the pizza:\"\n",
    "prompt += \"\\nEnter the 'quit' to end the program.\"\n",
    "\n",
    "while True:\n",
    "    topping = input(prompt)\n",
    "    if topping != 'quit':\n",
    "        print(\"We will add \" + topping + \"to the pizza.\")\n",
    "    else:\n",
    "        break"
   ]
  },
  {
   "cell_type": "code",
   "execution_count": 18,
   "metadata": {},
   "outputs": [],
   "source": [
    "prompt = \"Please enter the age of the person:\"\n",
    "prompt += \"\\nEnter 'quit' to end the program.\"\n",
    "\n",
    "while True:\n",
    "    age = input(prompt)\n",
    "    if age == 'quit':\n",
    "        break\n",
    "    elif int(age) < 3:\n",
    "        print(\"The ticket is free.\")\n",
    "    elif int(age) >=3 and int(age) < 12 :\n",
    "        print(\"The ticket is $10.\")\n",
    "    elif int(age) >=12 :\n",
    "        print(\"The ticket is $15.\")"
   ]
  },
  {
   "cell_type": "code",
   "execution_count": 20,
   "metadata": {},
   "outputs": [
    {
     "name": "stdout",
     "output_type": "stream",
     "text": [
      "Veryfing user: Candace.\n",
      "Veryfing user: Brian.\n",
      "Veryfing user: Alice.\n",
      "candace\n",
      "brian\n",
      "alice\n"
     ]
    }
   ],
   "source": [
    "unconfirmed_users = ['alice','brian','candace']\n",
    "confirmed_users = []\n",
    "while unconfirmed_users:\n",
    "    current_user = unconfirmed_users.pop()\n",
    "    print(\"Veryfing user: \" + current_user.title() +\".\")\n",
    "    confirmed_users.append(current_user)\n",
    "\n",
    "for confirmed_user in confirmed_users:\n",
    "    print(confirmed_user)"
   ]
  },
  {
   "cell_type": "code",
   "execution_count": 23,
   "metadata": {},
   "outputs": [
    {
     "name": "stdout",
     "output_type": "stream",
     "text": [
      "{'goldfish', 'rabbit', 'dog', 'cat'}\n"
     ]
    }
   ],
   "source": [
    "pets = ['dog','cat','dog','goldfish','cat','rabbit','cat']\n",
    "\n",
    "# while 'cat' in pets:\n",
    "#     pets.remove(\"cat\")\n",
    "print(set(pets))\n"
   ]
  },
  {
   "cell_type": "code",
   "execution_count": 25,
   "metadata": {},
   "outputs": [
    {
     "name": "stdout",
     "output_type": "stream",
     "text": [
      "\n",
      "---Poll Results---\n",
      "{'': 'zwl'}\n"
     ]
    }
   ],
   "source": [
    "responses = {}\n",
    "polling_activate = True\n",
    "\n",
    "while polling_activate:\n",
    "    name = input(\"Please enter your name:\")\n",
    "    reponse = input(\"Which mountain wuold youn like to climb someday? \")\n",
    "    responses[name] = reponse\n",
    "    repeat = input(\"Would you like to let another person respond?(yes/no)\")\n",
    "    if repeat == 'no':\n",
    "        polling_activate = False\n",
    "\n",
    "print(\"\\n---Poll Results---\")\n",
    "print(responses)"
   ]
  },
  {
   "cell_type": "code",
   "execution_count": 26,
   "metadata": {},
   "outputs": [
    {
     "name": "stdout",
     "output_type": "stream",
     "text": [
      "I made your chicken sandwich.\n",
      "I made your beef sandwich.\n",
      "I made your tuna sandwich.\n",
      "I made your pastrami sandwich.\n",
      "I made your pastrami sandwich.\n",
      "I made your pastrami sandwich.\n"
     ]
    }
   ],
   "source": [
    "sandwich_orders = ['pastrami','pastrami','pastrami','tuna','beef','chicken']\n",
    "finished_sandwiches = []\n",
    "while 'pastrami' in sandwich_orders:\n",
    "    sandwich_orders.remove('pastrami')\n",
    "# while sandwich_orders:\n",
    "#     current_sandwich = sandwich_orders.pop()\n",
    "#     print(\"I made your \" + current_sandwich + \" sandwich.\")\n",
    "#     finished_sandwiches.append(current_sandwich)"
   ]
  },
  {
   "cell_type": "code",
   "execution_count": 27,
   "metadata": {},
   "outputs": [
    {
     "name": "stdout",
     "output_type": "stream",
     "text": [
      "I would like to go to hefeu.\n"
     ]
    }
   ],
   "source": [
    "prompt =\"If you could visit one place in the world, where would you go?\"\n",
    "while True:\n",
    "    place = input(prompt)\n",
    "    if place == \"quit\":\n",
    "        break\n",
    "    else:\n",
    "        print(\"I would like to go to \" + place + \".\")"
   ]
  }
 ],
 "metadata": {
  "kernelspec": {
   "display_name": "Python 3",
   "language": "python",
   "name": "python3"
  },
  "language_info": {
   "codemirror_mode": {
    "name": "ipython",
    "version": 3
   },
   "file_extension": ".py",
   "mimetype": "text/x-python",
   "name": "python",
   "nbconvert_exporter": "python",
   "pygments_lexer": "ipython3",
   "version": "3.10.10"
  }
 },
 "nbformat": 4,
 "nbformat_minor": 2
}
