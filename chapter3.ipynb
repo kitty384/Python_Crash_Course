{
 "cells": [
  {
   "cell_type": "code",
   "execution_count": 7,
   "metadata": {},
   "outputs": [
    {
     "name": "stdout",
     "output_type": "stream",
     "text": [
      "['trek', 'cannondale', 'redline', 'specialized']\n",
      "trek\n",
      "TREK\n",
      "specialized\n",
      "my favourite bicycle is a Trek.\n",
      "my favorite friend is Zhangsan.\n"
     ]
    }
   ],
   "source": [
    "bicycles=['trek','cannondale','redline','specialized']\n",
    "print(bicycles)\n",
    "print(bicycles[0])\n",
    "print(bicycles[0].upper())\n",
    "print(bicycles[-1])\n",
    "message=\"my favourite bicycle is a \"+bicycles[0].title()+'.'\n",
    "print(message)\n",
    "names=['zhangsan','lisi','wangwu','zhaoliu']\n",
    "print('my favorite friend is '+names[0].title()+'.')"
   ]
  },
  {
   "cell_type": "code",
   "execution_count": 10,
   "metadata": {},
   "outputs": [
    {
     "name": "stdout",
     "output_type": "stream",
     "text": [
      "['honda', 'yamaha', 'suzuki']\n",
      "['honda', 'yamaha', 'suzuki', 'ducati']\n"
     ]
    }
   ],
   "source": [
    "motorcycles=['honda','yamaha','suzuki']\n",
    "# motorcycles[0]='ducati'\n",
    "print(motorcycles)\n",
    "motorcycles.append('ducati')\n",
    "print(motorcycles)"
   ]
  },
  {
   "cell_type": "code",
   "execution_count": 31,
   "metadata": {},
   "outputs": [
    {
     "name": "stdout",
     "output_type": "stream",
     "text": [
      "['honda', 'yamaba']\n",
      "['ducati', 'honda', 'yamaba']\n",
      "['ducati', 'honda']\n"
     ]
    }
   ],
   "source": [
    "motrocycles = []\n",
    "motrocycles.append('honda')\n",
    "motrocycles.append('yamaba')\n",
    "print(motrocycles)\n",
    "motrocycles.insert(0, 'ducati')\n",
    "# print(motrocycles)\n",
    "# del motrocycles[0]\n",
    "# print(motrocycles)\n",
    "# del motrocycles[1]\n",
    "# print(motrocycles)\n",
    "# popped = motrocycles.pop()\n",
    "# print(motrocycles,popped)\n",
    "# print('The last motrocycle I owend was a '+popped.title()+'.')\n",
    "# first_owend=motrocycles.pop(0)\n",
    "# print(first_owend)\n",
    "# print(motorcycles)\n",
    "print(motrocycles)\n",
    "motrocycles.remove('yamaba')\n",
    "print(motrocycles)"
   ]
  },
  {
   "cell_type": "code",
   "execution_count": 37,
   "metadata": {},
   "outputs": [
    {
     "name": "stdout",
     "output_type": "stream",
     "text": [
      "I want to invite Zhangsan.\n",
      "I want to invite Lisi.\n",
      "I want to invite Wangwu.\n",
      "I want to invite Zhaoliu.\n",
      "Wangwu can't come.\n",
      "Sorry, I can only invite two persons.\n",
      "['zhangsan', 'lisi', 'zwl', 'zhaoliu']\n",
      "['zhangsan', 'lisi', 'zhaoliu']\n"
     ]
    }
   ],
   "source": [
    "invited_persons=['zhangsan','lisi','wangwu','zhaoliu']\n",
    "print(\"I want to invite \"+invited_persons[0].title()+'.')\n",
    "print(\"I want to invite \"+invited_persons[1].title()+'.')\n",
    "print(\"I want to invite \"+invited_persons[2].title()+'.')\n",
    "print(\"I want to invite \"+invited_persons[3].title()+'.')\n",
    "print(invited_persons[2].title()+\" can't come.\")\n",
    "invited_persons[2]='zwl'\n",
    "invited_persons.append('GaoYue')\n",
    "invited_persons.insert(0,'zhangyue')\n",
    "invited_persons.insert(2,'zhangjing')\n",
    "print(\"Sorry, I can only invite two persons.\")\n",
    "del invited_persons[0]\n",
    "del invited_persons[1]\n",
    "invited_persons.pop()\n",
    "print(invited_persons)\n",
    "invited_persons.remove('zwl')\n",
    "print(invited_persons)\n"
   ]
  },
  {
   "cell_type": "code",
   "execution_count": 45,
   "metadata": {},
   "outputs": [
    {
     "name": "stdout",
     "output_type": "stream",
     "text": [
      "None\n"
     ]
    }
   ],
   "source": [
    "cars=['bmw','audi','toyota','subaru']\n",
    "# sorted()方法返回的是list，不改变原来的list\n",
    "# sort，reverse方法返回的是None，改变原来的list\n",
    "# cars.sort(reverse=True)\n",
    "# print(\"Here is the original list:\\n\",cars)\n",
    "# print(\"Here is the sorted list:\\n\",sorted(cars))\n",
    "# print(\"Here is the opposite sorted list:\\n\",sorted(cars,reverse=True))\n",
    "# cars.reverse()\n",
    "print(cars.sort())"
   ]
  },
  {
   "cell_type": "code",
   "execution_count": 55,
   "metadata": {},
   "outputs": [
    {
     "name": "stdout",
     "output_type": "stream",
     "text": [
      "['beijing', 'xinjiang', 'shanghai', 'guangzhou', 'shenzhen', 'chengdu', 'hefei']\n"
     ]
    }
   ],
   "source": [
    "want_to_visit=['beijing','shanghai','guangzhou','shenzhen','chengdu']\n",
    "# print(\"Here is the original list: \",want_to_visit)\n",
    "# print(\"here is the sorted list: \",sorted(want_to_visit))\n",
    "# print(\"Here is the original list: \",want_to_visit)\n",
    "# print(\"Here is the opposite sorted list: \",sorted(want_to_visit,reverse=True))\n",
    "# print(\"Here is the original list: \",want_to_visit)\n",
    "# want_to_visit.reverse()\n",
    "# print(\"Here is the opposite list: \",want_to_visit)\n",
    "# want_to_visit.reverse()\n",
    "# print(\"Here is the original list: \",want_to_visit)\n",
    "# want_to_visit.sort()\n",
    "# print(\"Here is the sorted list: \",want_to_visit)\n",
    "# want_to_visit.sort(reverse=True)\n",
    "# print(\"Here is the oppositely sorted list:\",want_to_visit)\n",
    "# print(len(want_to_visit))\n",
    "# del want_to_visit[0]\n",
    "# where= want_to_visit.pop(1)\n",
    "# want_to_visit.remove('guangzhou')\n",
    "want_to_visit.append('hefei')\n",
    "want_to_visit.insert(1,'xinjiang')\n",
    "print(want_to_visit)"
   ]
  }
 ],
 "metadata": {
  "kernelspec": {
   "display_name": "Python 3",
   "language": "python",
   "name": "python3"
  },
  "language_info": {
   "codemirror_mode": {
    "name": "ipython",
    "version": 3
   },
   "file_extension": ".py",
   "mimetype": "text/x-python",
   "name": "python",
   "nbconvert_exporter": "python",
   "pygments_lexer": "ipython3",
   "version": "3.10.10"
  }
 },
 "nbformat": 4,
 "nbformat_minor": 2
}
