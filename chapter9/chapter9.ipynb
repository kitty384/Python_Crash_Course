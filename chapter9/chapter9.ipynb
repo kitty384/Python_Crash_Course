{
 "cells": [
  {
   "cell_type": "code",
   "execution_count": 3,
   "metadata": {},
   "outputs": [
    {
     "name": "stdout",
     "output_type": "stream",
     "text": [
      "My dog's name is Willie.\n",
      "My dog is 6 years old.\n",
      "Willie is now sitting.\n",
      "Willie rolled over!\n",
      "Your dog's name is Lucy.\n",
      "Your dog is 3 years old.\n",
      "Lucy is now sitting.\n",
      "Lucy rolled over!\n"
     ]
    }
   ],
   "source": [
    "class Dog():\n",
    "    \"A simple attempt to model a dog.\"\n",
    "\n",
    "    def __init__(self,name,age):\n",
    "        self.name=name\n",
    "        self.age=age\n",
    "\n",
    "    def sit(self):\n",
    "        print(self.name.title()+\" is now sitting.\")\n",
    "\n",
    "    def roll_over(self):\n",
    "        print(self.name.title()+\" rolled over!\")\n",
    "\n",
    "my_dog=Dog(name='willie',age=6)\n",
    "print(\"My dog's name is \"+my_dog.name.title()+\".\")\n",
    "print(\"My dog is \"+str(my_dog.age)+\" years old.\")\n",
    "my_dog.sit()\n",
    "my_dog.roll_over()\n",
    "your_dog=Dog(\"lucy\",3)\n",
    "print(\"Your dog's name is \"+your_dog.name.title()+\".\")\n",
    "print(\"Your dog is \"+str(your_dog.age)+\" years old.\")\n",
    "your_dog.sit()\n",
    "your_dog.roll_over()\n"
   ]
  },
  {
   "cell_type": "code",
   "execution_count": 21,
   "metadata": {},
   "outputs": [
    {
     "name": "stdout",
     "output_type": "stream",
     "text": [
      "The flavors are:  ['chocolate', 'vanilla', 'strawberry']\n"
     ]
    }
   ],
   "source": [
    "class Restaurant():\n",
    "    def __init__(self,restuarant_name,cusine_type):\n",
    "        self.restaurant_name=restuarant_name\n",
    "        self.cusine_type=cusine_type\n",
    "        self.number_served=0\n",
    "\n",
    "    def describe_restaurant(self):\n",
    "        print(\"restaurant name:\",self.restaurant_name)\n",
    "        print(\"cusinie type: \",self.cusine_type)\n",
    "\n",
    "    def open_restaurant(self):\n",
    "        print(\"The restaurant is open.\")\n",
    "\n",
    "    def set_number_served(self,num):\n",
    "        self.number_served=num\n",
    "    \n",
    "    def read_number_served(self):\n",
    "        print(\"The number of served is: \",self.number_served)\n",
    "\n",
    "class IceCreamStand(Restaurant):\n",
    "    def __init__(self,restuarant_name,cusine_type):\n",
    "        super().__init__(restuarant_name,cusine_type)\n",
    "        self.flavors=['chocolate','vanilla','strawberry']\n",
    "\n",
    "    def show_flavors(self):\n",
    "        print(\"The flavors are: \",self.flavors)\n",
    "# My_restaurant=Restaurant(\"KFC\",\"fast food\")\n",
    "# My_restaurant.describe_restaurant()\n",
    "# My_restaurant.open_restaurant()\n",
    "# My_restaurant.number_served=10\n",
    "# My_restaurant.set_number_served(20)\n",
    "# My_restaurant.read_number_served()\n",
    "my_icecream=IceCreamStand(\"Baskin Robbins\",\"Ice Cream\")\n",
    "my_icecream.show_flavors()\n",
    "\n",
    "\n",
    "\n",
    "\n"
   ]
  },
  {
   "cell_type": "code",
   "execution_count": 22,
   "metadata": {},
   "outputs": [
    {
     "name": "stdout",
     "output_type": "stream",
     "text": [
      "first name: zhang\n",
      "last name: san\n",
      "age: 20\n",
      "login attempts: 2\n",
      "first name: zhang\n",
      "last name: san\n",
      "age: 20\n",
      "login attempts: 0\n",
      "The admin's privileges are: \n",
      "can add post\n",
      "can delete post\n",
      "can ban user\n"
     ]
    }
   ],
   "source": [
    "class User():\n",
    "    def __init__(self,first_name,last_name,age):\n",
    "        self.first_name=first_name\n",
    "        self.last_name=last_name\n",
    "        self.age=age\n",
    "        self.login_attempts=0\n",
    "    \n",
    "    def describe_user(self):\n",
    "        print(\"first name:\",self.first_name)\n",
    "        print(\"last name:\",self.last_name)\n",
    "        print(\"age:\",self.age)\n",
    "        print(\"login attempts:\",self.login_attempts)\n",
    "\n",
    "    def greet_user(self):\n",
    "        print(\"Hello \"+self.first_name.title()+self.last_name.title()+\" !\" )\n",
    "\n",
    "    def increment_login_attempts(self):\n",
    "        self.login_attempts+=1\n",
    "\n",
    "    def reset_login_attempts(self):\n",
    "        self.login_attempts=0\n",
    "\n",
    "class Admin(User):\n",
    "    def __init__(self,first_name,last_name,age):\n",
    "        super().__init__(first_name,last_name,age)\n",
    "        self.privileges=['can add post','can delete post','can ban user']\n",
    "\n",
    "    def show_privileges(self):\n",
    "        print(\"The admin's privileges are: \")\n",
    "        for privilege in self.privileges:\n",
    "            print(privilege)\n",
    "\n",
    "user1=User(\"zhang\",\"san\",20)\n",
    "user1.increment_login_attempts()\n",
    "user1.increment_login_attempts()\n",
    "user1.describe_user()\n",
    "user1.reset_login_attempts()\n",
    "user1.describe_user()\n",
    "# user1.greet_user()\n",
    "admin1=Admin(\"li\",\"si\",25)\n",
    "admin1.show_privileges()"
   ]
  },
  {
   "cell_type": "code",
   "execution_count": 24,
   "metadata": {},
   "outputs": [
    {
     "name": "stdout",
     "output_type": "stream",
     "text": [
      "This car has a 70-kWh battery.\n",
      "This car can go approximately 240 miles on a full charge.\n",
      "The battery has been upgraded to 85 kwh.\n",
      "This car can go approximately 270 miles on a full charge.\n"
     ]
    }
   ],
   "source": [
    "class Car():\n",
    "    def __init__(self,make,model,year):\n",
    "        self.make=make\n",
    "        self.model=model\n",
    "        self.year=year\n",
    "        self.odometer_reading=0\n",
    "\n",
    "    def get_descriptive_name(self):\n",
    "        long_name=str(self.year)+\" \"+self.make+\" \"+self.model\n",
    "        return long_name.title()\n",
    "    \n",
    "    def read_odometer(self):\n",
    "        print(\"THis car has \"+str(self.odometer_reading)+\" miles on it.\")\n",
    "\n",
    "    def update_odometer(self,miles):\n",
    "        if miles >= self.odometer_reading:\n",
    "            self.odometer_reading=miles\n",
    "        else:\n",
    "            print(\"You can't roll back an odometer!\")\n",
    "    \n",
    "    def increase_odometer(self,miles):\n",
    "        self.odometer_reading +=miles\n",
    "\n",
    "    def fill_gas_tank(self):\n",
    "        print(\"This car need a gas tank!\")\n",
    "# my_new_car=Car(\"audi\",\"a4\",2016)\n",
    "# print(my_new_car.get_descriptive_name())\n",
    "# my_new_car.read_odometer()\n",
    "\n",
    "# # 三种修改属性值的方法：①直接修改②通过方法修改③通过方法对属性值进行递增\n",
    "# my_new_car.odometer_reading=23\n",
    "# my_new_car.read_odometer()\n",
    "# my_new_car.update_odometer(25)\n",
    "# my_new_car.read_odometer()\n",
    "# my_new_car.increase_odometer(100)\n",
    "# my_new_car.read_odometer()\n",
    "class Battery():\n",
    "    def __init__(self,battery_size=70):\n",
    "        self.battery_size=battery_size\n",
    "    def describe_battery(self):\n",
    "        print(\"This car has a \"+str(self.battery_size)+\"-kWh battery.\")\n",
    "    def get_range(self):\n",
    "        if self.battery_size==70:\n",
    "            range=240\n",
    "        elif self.battery_size==85:\n",
    "            range=270\n",
    "        message=\"This car can go approximately \"+str(range)\n",
    "        message+=\" miles on a full charge.\"\n",
    "        print(message)\n",
    "\n",
    "    def upgrade_battery(self):\n",
    "        if self.battery_size!=85:\n",
    "            self.battery_size=85\n",
    "            print(\"The battery has been upgraded to 85 kwh.\")\n",
    "        else:\n",
    "            print(\"The battery is already upgraded.\")\n",
    "class ElectricCar(Car):\n",
    "    def __init__(self,make,model,year):\n",
    "        super().__init__(make,model,year)\n",
    "        self.battery=Battery()\n",
    "\n",
    "    \n",
    "\n",
    "    def fill_gas_tank(self):\n",
    "        print(\"This car doesn't need a gas tank!\")\n",
    "my_tesla=ElectricCar(\"tesla\",\"model s\",2016)\n",
    "# print(my_tesla.get_descriptive_name())\n",
    "# my_tesla.describe_battery()\n",
    "my_tesla.battery.describe_battery()\n",
    "my_tesla.battery.get_range()\n",
    "my_tesla.battery.upgrade_battery()\n",
    "my_tesla.battery.get_range()"
   ]
  },
  {
   "cell_type": "code",
   "execution_count": 8,
   "metadata": {},
   "outputs": [
    {
     "name": "stdout",
     "output_type": "stream",
     "text": [
      "The sides of the die is:  2\n"
     ]
    }
   ],
   "source": [
    "from random import randint\n",
    "class Die():\n",
    "    def __init__(self,sides=6):\n",
    "        self.sides=sides\n",
    "\n",
    "    def roll_die(self):\n",
    "        print(\"The sides of the die is: \",randint(1,self.sides))\n",
    "\n",
    "\n",
    "my_die=Die(6)\n",
    "my_die.roll_die()"
   ]
  }
 ],
 "metadata": {
  "kernelspec": {
   "display_name": "Python 3",
   "language": "python",
   "name": "python3"
  },
  "language_info": {
   "codemirror_mode": {
    "name": "ipython",
    "version": 3
   },
   "file_extension": ".py",
   "mimetype": "text/x-python",
   "name": "python",
   "nbconvert_exporter": "python",
   "pygments_lexer": "ipython3",
   "version": "3.10.10"
  }
 },
 "nbformat": 4,
 "nbformat_minor": 2
}
