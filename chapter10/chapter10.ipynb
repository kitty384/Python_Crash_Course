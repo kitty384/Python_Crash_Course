{
 "cells": [
  {
   "cell_type": "code",
   "execution_count": 13,
   "metadata": {},
   "outputs": [
    {
     "name": "stdout",
     "output_type": "stream",
     "text": [
      "3.14159265358979323846264...\n",
      "Your birthday does not appear in the first 30 digits of pi.\n"
     ]
    }
   ],
   "source": [
    "file_path=\"pi_digits.txt\"\n",
    "# with open(file_path,\"r\") as file_object:\n",
    "#     # contents=file_object.read()\n",
    "#     # # print(contents)\n",
    "#     # print(contents.strip())\n",
    "#     for line in file_object:\n",
    "#         print(line.strip())\n",
    "\n",
    "with open(file_path,\"r\") as f:\n",
    "    # readlines()方法将文件每一行存储在一个列表中\n",
    "    lines=f.readlines()\n",
    "\n",
    "pi_string=\"\"\n",
    "for line in lines:\n",
    "    # print(line.strip())\n",
    "    pi_string+=line.strip()\n",
    "\n",
    "print(pi_string[:25]+\"...\")\n",
    "birthday=input(\"Enter your birthday,in the form mmddyy:\")\n",
    "if birthday in pi_string:\n",
    "    print(\"Your birthday appears in the first 30 digits of pi!\")\n",
    "else:\n",
    "    print(\"Your birthday does not appear in the first 30 digits of pi.\")"
   ]
  },
  {
   "cell_type": "code",
   "execution_count": 20,
   "metadata": {},
   "outputs": [
    {
     "name": "stdout",
     "output_type": "stream",
     "text": [
      "In python you can use class\n",
      "In python you can use data types\n",
      "In python you can model for questions1\n",
      "\n",
      "\n"
     ]
    }
   ],
   "source": [
    "file_path=\"learning_python.txt\"\n",
    "\n",
    "with open(file_path) as f:\n",
    "    # first_method :整个读取\n",
    "    print(f.read().strip()+\"1\")\n",
    "    print(\"\\n\")\n",
    "    # 按行读取\n",
    "    for line in f:\n",
    "        print(line.strip()+\"2\")\n",
    "    # 列表读取\n",
    "    lines=f.readlines()\n",
    "\n",
    "for line in lines:\n",
    "    print(line.strip()+\"3\")\n",
    "    \n"
   ]
  },
  {
   "cell_type": "code",
   "execution_count": 5,
   "metadata": {},
   "outputs": [],
   "source": [
    "file_path=\"promgraming.txt\"\n",
    "with open(file_path,\"w\") as f:\n",
    "    f.write(\"I love programming.\")\n",
    "    # f.write(\"I love creating new games.\")\n",
    "\n",
    "with open(file_path,\"a\") as f:\n",
    "    f.write(\"I love programming.11\\n\")\n",
    "    f.write(\"I love creating new games.\\n\")"
   ]
  },
  {
   "cell_type": "code",
   "execution_count": 6,
   "metadata": {},
   "outputs": [],
   "source": [
    "file_path=\"guest.txt\"\n",
    "\n",
    "with open(file_path,\"w\") as f:\n",
    "    name=input(\"Please enter your name.\")\n",
    "    f.write(name)"
   ]
  },
  {
   "cell_type": "code",
   "execution_count": 7,
   "metadata": {},
   "outputs": [],
   "source": [
    "file_path=\"guest_book.txt\"\n",
    "\n",
    "with open(file_path,\"a\") as f:\n",
    "    while True:\n",
    "        name=input(\"Please your name.\")\n",
    "        if name==\"q\":\n",
    "            break\n",
    "        else:\n",
    "            f.write(name.title()+\"\\n\")"
   ]
  },
  {
   "cell_type": "code",
   "execution_count": 9,
   "metadata": {},
   "outputs": [
    {
     "name": "stdout",
     "output_type": "stream",
     "text": [
      "You can't divide by zero!\n"
     ]
    }
   ],
   "source": [
    "# print(5/0)\n",
    "\n",
    "try:\n",
    "    print(5/0)\n",
    "except ZeroDivisionError:\n",
    "    print(\"You can't divide by zero!\")"
   ]
  },
  {
   "cell_type": "code",
   "execution_count": 13,
   "metadata": {},
   "outputs": [
    {
     "name": "stdout",
     "output_type": "stream",
     "text": [
      "Please give me two numbers,and I'll divide them.\n",
      "Enter 'q' to quit.\n",
      "1.5\n"
     ]
    }
   ],
   "source": [
    "print(\"Please give me two numbers,and I'll divide them.\")\n",
    "print(\"Enter 'q' to quit.\")\n",
    "while True:\n",
    "    num1=input(\"First number:\")\n",
    "    num2=input(\"Second number:\")\n",
    "    if num1=='q' or num2=='q':\n",
    "        break\n",
    "    try:\n",
    "        answer=int(num1)/int(num2)\n",
    "    except ZeroDivisionError:\n",
    "        print(\"You can't divide by zero!\")\n",
    "    else:\n",
    "        print(answer)"
   ]
  },
  {
   "cell_type": "code",
   "execution_count": 16,
   "metadata": {},
   "outputs": [
    {
     "name": "stdout",
     "output_type": "stream",
     "text": [
      "Sorry,the file alice.txt does not exist.\n"
     ]
    }
   ],
   "source": [
    "file_name=\"alice.txt\"\n",
    "try:\n",
    "    with open(file_name) as f:\n",
    "        contents=f.read()\n",
    "\n",
    "except FileNotFoundError:\n",
    "    print(\"Sorry,the file \"+file_name+\" does not exist.\")\n",
    "\n",
    "else:\n",
    "    print(contents)"
   ]
  },
  {
   "cell_type": "code",
   "execution_count": 21,
   "metadata": {},
   "outputs": [
    {
     "name": "stdout",
     "output_type": "stream",
     "text": [
      "The file Alice's Adventures in Wonderland.txt has about 12796 words.\n"
     ]
    }
   ],
   "source": [
    "\n",
    "\n",
    "\n",
    "\n",
    "file_name=\"Alice's Adventures in Wonderland.txt\"\n",
    "try:\n",
    "    with open(file_name,\"r\",encoding=\"utf-8\") as f:\n",
    "        contents=f.read()\n",
    "except FileNotFoundError:\n",
    "    print(\"Sorry,the file \"+file_name+\" does not exist.\")\n",
    "else:\n",
    "    words=contents.split()\n",
    "    print(\"The file \"+file_name+\" has about \"+str(len(words))+\" words.\")"
   ]
  },
  {
   "cell_type": "code",
   "execution_count": 28,
   "metadata": {},
   "outputs": [
    {
     "name": "stdout",
     "output_type": "stream",
     "text": [
      "The file Alice's Adventures in Wonderland.txt has about 12796 words.\n",
      "The file pi_digits.txt has about 3 words.\n",
      "The file learning_python.txt has about 20 words.\n"
     ]
    }
   ],
   "source": [
    "def word_count(file_name):\n",
    "    try:\n",
    "        with open(file_name,\"r\",encoding=\"utf-8\") as f:\n",
    "            contents=f.read()\n",
    "    except FileNotFoundError:\n",
    "        # print(\"Sorry,the file \"+file_name+\" does not exist.\")\n",
    "        # pass\n",
    "        with open(\"missing_files.txt\",\"a\") as f:\n",
    "            f.write(file_name+\"\\n\")\n",
    "    else:\n",
    "        words=contents.split()\n",
    "        print(\"The file \"+file_name+\" has about \"+str(len(words))+\" words.\")\n",
    "\n",
    "# word_count(\"Alice's Adventures in Wonderland.txt\")\n",
    "file_names=[\"Alice's Adventures in Wonderland.txt\",\"pi_digits.txt\",\"learning_python.txt\",\"siddhartha.txt\"]\n",
    "for file in file_names:\n",
    "    word_count(file)\n"
   ]
  },
  {
   "cell_type": "code",
   "execution_count": 33,
   "metadata": {},
   "outputs": [
    {
     "name": "stdout",
     "output_type": "stream",
     "text": [
      "11\n",
      "3\n",
      "Please enter numbers.\n"
     ]
    }
   ],
   "source": [
    "def add_print(num1,num2):\n",
    "    try:\n",
    "        num1=int(num1)\n",
    "        num2=int(num2)\n",
    "        print(num1+num2)\n",
    "    except ValueError :\n",
    "        print(\"Please enter numbers.\")\n",
    "    \n",
    "num1=input(\"Please enter the first number:\")\n",
    "num2=input(\"Please enter the second number:\")\n",
    "add_print(num1,num2)\n",
    "add_print(1,2)\n",
    "add_print(\"a\",\"b\")"
   ]
  },
  {
   "cell_type": "code",
   "execution_count": 36,
   "metadata": {},
   "outputs": [
    {
     "name": "stdout",
     "output_type": "stream",
     "text": [
      "kitty\n",
      "Robinson\n",
      "lucy\n",
      "['duoduo', 'bubu', 'xiaohuang']\n"
     ]
    }
   ],
   "source": [
    "try:\n",
    "    cats=\"cats.txt\"\n",
    "    dogs=\"dogs.txt\"\n",
    "    with open(cats) as f:\n",
    "        print(f.read())\n",
    "\n",
    "    with open(dogs) as f:\n",
    "        lines=[line.strip() for line in f]\n",
    "        print(lines)\n",
    "except FileNotFoundError:\n",
    "    # print(\"Sorry,the file does not exist.\")\n",
    "    pass\n"
   ]
  },
  {
   "cell_type": "code",
   "execution_count": 39,
   "metadata": {},
   "outputs": [
    {
     "name": "stdout",
     "output_type": "stream",
     "text": [
      "[1, 2, 3, 4, 5, 6, 7, 8, 9]\n"
     ]
    }
   ],
   "source": [
    "import json\n",
    "\n",
    "nums=[1,2,3,4,5,6,7,8,9]\n",
    "file_name=\"numbers.json\"\n",
    "with open(file_name,\"w\") as f:\n",
    "    json.dump(nums,f)\n",
    "\n",
    "with open(file_name) as f:\n",
    "    numbers=json.load(f)\n",
    "print(numbers)"
   ]
  },
  {
   "cell_type": "code",
   "execution_count": 41,
   "metadata": {},
   "outputs": [
    {
     "name": "stdout",
     "output_type": "stream",
     "text": [
      "We will remember you when you come back, zwl!\n",
      "Welcome back, zwl!\n"
     ]
    }
   ],
   "source": [
    "import json\n",
    "\n",
    "username=input(\"Please enter your name:\")\n",
    "\n",
    "file_name=\"username.json\"\n",
    "with open(file_name,\"w\") as f:\n",
    "    json.dump(username,f)\n",
    "    print(\"We will remember you when you come back, \"+username+\"!\")\n",
    "\n",
    "with open(file_name) as f:\n",
    "    username=json.load(f)\n",
    "    print(\"Welcome back, \"+username+\"!\")"
   ]
  },
  {
   "cell_type": "code",
   "execution_count": 42,
   "metadata": {},
   "outputs": [
    {
     "name": "stdout",
     "output_type": "stream",
     "text": [
      "We will remember your favorite number, 3!\n"
     ]
    }
   ],
   "source": [
    "file_name=\"favorite_number.json\"\n",
    "try:\n",
    "    with open(file_name) as f:\n",
    "        favorite_number=json.load(f)\n",
    "except FileNotFoundError:\n",
    "    number=input(\"Please enter your favorite number:\")\n",
    "    with open(file_name,\"w\") as f:\n",
    "        json.dump(number,f)\n",
    "    print(\"We will remember your favorite number, \"+number+\"!\")\n",
    "else:\n",
    "    print(\"I know your favorite number! It's \"+favorite_number+\".\")"
   ]
  },
  {
   "cell_type": "code",
   "execution_count": 44,
   "metadata": {},
   "outputs": [
    {
     "name": "stdout",
     "output_type": "stream",
     "text": [
      "Welcome back, zwl!\n"
     ]
    }
   ],
   "source": [
    "import json\n",
    "\n",
    "def get_stored_username():\n",
    "    file_name=\"username.json\"\n",
    "    try:\n",
    "        with open(file_name) as f:\n",
    "            username=json.load(f)\n",
    "    except FileNotFoundError:\n",
    "        return None\n",
    "    else:\n",
    "        return username\n",
    "def get_new_username():\n",
    "    username=input(\"Please enter your name:\")\n",
    "    file_name=\"username.json\"\n",
    "    with open(file_name,\"w\") as f:\n",
    "        json.dump(username,f)\n",
    "        print(\"We will remember you when you come back, \"+username+\"!\")\n",
    "def greet_user():\n",
    "    username=get_stored_username()\n",
    "    if username:\n",
    "        print(\"Welcome back, \"+username+\"!\")\n",
    "    else:\n",
    "        sure=input(\"Are you \"+username+\"?(yes/no)\")\n",
    "        if sure==\"yes\":\n",
    "            get_new_username()\n",
    "        else:\n",
    "            print(\"Please enter your name.\")\n",
    "            get_new_username()\n",
    "greet_user()\n",
    "\n"
   ]
  }
 ],
 "metadata": {
  "kernelspec": {
   "display_name": "Python 3",
   "language": "python",
   "name": "python3"
  },
  "language_info": {
   "codemirror_mode": {
    "name": "ipython",
    "version": 3
   },
   "file_extension": ".py",
   "mimetype": "text/x-python",
   "name": "python",
   "nbconvert_exporter": "python",
   "pygments_lexer": "ipython3",
   "version": "3.10.10"
  }
 },
 "nbformat": 4,
 "nbformat_minor": 2
}
