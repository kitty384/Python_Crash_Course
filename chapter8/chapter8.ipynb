{
 "cells": [
  {
   "cell_type": "code",
   "execution_count": 1,
   "metadata": {},
   "outputs": [
    {
     "name": "stdout",
     "output_type": "stream",
     "text": [
      "Hello!\n"
     ]
    }
   ],
   "source": [
    "def greet_user():\n",
    "    print(\"Hello!\")\n",
    "\n",
    "greet_user()"
   ]
  },
  {
   "cell_type": "code",
   "execution_count": 3,
   "metadata": {},
   "outputs": [
    {
     "name": "stdout",
     "output_type": "stream",
     "text": [
      "Hello, Zwl!\n"
     ]
    }
   ],
   "source": [
    "def greet_user(username):\n",
    "    print(\"Hello, \"+ username.title() + \"!\")\n",
    "\n",
    "greet_user(\"zwl\")"
   ]
  },
  {
   "cell_type": "code",
   "execution_count": 5,
   "metadata": {},
   "outputs": [
    {
     "name": "stdout",
     "output_type": "stream",
     "text": [
      "One of my favorite books is Alice In Wonderland.\n"
     ]
    }
   ],
   "source": [
    "def display_message():\n",
    "    print(\"I am learning function in this chapter.\")\n",
    "\n",
    "# display_message()\n",
    "def favorite_book(book_name):\n",
    "    print(\"One of my favorite books is \"+ book_name.title() + \".\")\n",
    "\n",
    "favorite_book(\"Alice in Wonderland\")"
   ]
  },
  {
   "cell_type": "code",
   "execution_count": 11,
   "metadata": {},
   "outputs": [
    {
     "name": "stdout",
     "output_type": "stream",
     "text": [
      "\n",
      "I have a Hamster.\n",
      "\n",
      "My Hamster's name is Harry.\n",
      "\n",
      "I have a Dog.\n",
      "\n",
      "My Dog's name is Whillie.\n"
     ]
    }
   ],
   "source": [
    "def describe_pet(pets_name,animal_type='dog'):\n",
    "    print(\"\\nI have a \" + animal_type.title() + \".\")\n",
    "    print(\"\\nMy \" + animal_type.title() + \"'s name is \"+ pets_name.title() + \".\")\n",
    "\n",
    "# describe_pet(\"hamster\", \"harry\")\n",
    "# describe_pet(\"dog\", \"whillie\")\n",
    "describe_pet(animal_type=\"hamster\",pets_name=\"harry\")\n",
    "describe_pet(pets_name=\"whillie\")"
   ]
  },
  {
   "cell_type": "code",
   "execution_count": 15,
   "metadata": {},
   "outputs": [
    {
     "name": "stdout",
     "output_type": "stream",
     "text": [
      "The size of the shirt is L, and the word on the shirt is I love python.\n",
      "The size of the shirt is M, and the word on the shirt is I love python.\n",
      "The size of the shirt is L, and the word on the shirt is I love C++.\n"
     ]
    }
   ],
   "source": [
    "def make_shirt(size='L', wora=\"I love python\"):\n",
    "    print(\"The size of the shirt is \" + size +\n",
    "          \", and the word on the shirt is \" + wora + \".\")\n",
    "\n",
    "\n",
    "make_shirt(\"L\", \"I love python\")\n",
    "make_shirt(size=\"M\", wora=\"I love python\")\n",
    "make_shirt(wora=\"I love C++\")"
   ]
  },
  {
   "cell_type": "code",
   "execution_count": 2,
   "metadata": {},
   "outputs": [
    {
     "name": "stdout",
     "output_type": "stream",
     "text": [
      "Please tell me your name: \n",
      "\n",
      "Enter 'q' to quit at any time.\n"
     ]
    }
   ],
   "source": [
    "# 111\n",
    "\n",
    "def get_formatted_name(first_name, last_name, middle_name=\"\"):\n",
    "    full_name = first_name + \" \" + middle_name + \" \" + last_name\n",
    "\n",
    "    return full_name.title()\n",
    "\n",
    "\n",
    "\n",
    "# student=get_formatted_name(\"zhang\",\"Wenli\",\"hhh\")\n",
    "\n",
    "# print(student)\n",
    "\n",
    "while True:\n",
    "\n",
    "    print(\"Please tell me your name: \")\n",
    "    print(\"\\nEnter 'q' to quit at any time.\")\n",
    "    f_name = input(\"First name: \")\n",
    "    if f_name == 'q' :\n",
    "        break\n",
    "    else:\n",
    "        \n",
    "\n",
    "        l_name = input(\"Last name: \")\n",
    "\n",
    "        full_name = get_formatted_name(f_name, l_name)\n",
    "\n",
    "        print(\"Hello, \"+full_name+\"!\")"
   ]
  },
  {
   "cell_type": "code",
   "execution_count": 1,
   "metadata": {},
   "outputs": [
    {
     "name": "stdout",
     "output_type": "stream",
     "text": [
      "<class 'int'>\n",
      "{'first': 'zhang', 'last': 'wenli', 'age': 17}\n"
     ]
    }
   ],
   "source": [
    "def build_person(first_name, last_name, age='') :\n",
    "    person = {'first': first_name, 'last': last_name}\n",
    "    if age:\n",
    "        person['age'] = age\n",
    "        print(type(age))\n",
    "    return person\n",
    "\n",
    "\n",
    "musician = build_person(\"zhang\", \"wenli\", 17)\n",
    "print(musician)\n"
   ]
  },
  {
   "cell_type": "code",
   "execution_count": 3,
   "metadata": {},
   "outputs": [
    {
     "name": "stdout",
     "output_type": "stream",
     "text": [
      "\"santiago, chile\"\n",
      "\"beijing, china\"\n",
      "\"shanghai, china\"\n"
     ]
    }
   ],
   "source": [
    "def city_country(city,country):\n",
    "    return('\"'+city+', '+country+'\"')\n",
    "\n",
    "print(city_country(\"santiago\",\"chile\"))\n",
    "print(city_country(\"beijing\",\"china\"))\n",
    "print(city_country(city=\"shanghai\",country=\"china\"))"
   ]
  },
  {
   "cell_type": "code",
   "execution_count": 5,
   "metadata": {},
   "outputs": [
    {
     "name": "stdout",
     "output_type": "stream",
     "text": [
      "\n",
      "Please tell me the singer name and album name:\n",
      "\n",
      "Enter 'q' to quit at any time.\n",
      "\n",
      "Please tell me the singer name and album name:\n",
      "\n",
      "Enter 'q' to quit at any time.\n",
      "{'singer': '1', 'album': '1', 'song_number': 3}\n"
     ]
    }
   ],
   "source": [
    "def make_album(singer_name, album_name, song_number=''):\n",
    "    album = {'singer': singer_name, 'album': album_name}\n",
    "    if song_number:\n",
    "        album['song_number'] = song_number\n",
    "    return album\n",
    "\n",
    "while True:\n",
    "    print(\"\\nPlease tell me the singer name and album name:\")\n",
    "    print(\"\\nEnter 'q' to quit at any time.\")\n",
    "    singer_name=input(\"Singer name:\")\n",
    "    if singer_name == 'q' :\n",
    "        break\n",
    "    else:\n",
    "        album_name=input(\"Album name:\")\n",
    "        if album_name == 'q':\n",
    "            break\n",
    "        else:\n",
    "            songs_number=''\n",
    "            flags=input(\"Do you want to add the number of songs in the album? (yes/no)\")\n",
    "            if flags == 'yes':\n",
    "                songs_number=int(input(\"Please input the number of songs in the album:\"))\n",
    "\n",
    "        album=make_album(singer_name,album_name,songs_number)\n",
    "\n",
    "print(album)"
   ]
  },
  {
   "cell_type": "code",
   "execution_count": null,
   "metadata": {},
   "outputs": [],
   "source": [
    "def make_album(singer_name,album_name,songs_number=''):\n",
    "    album={}\n",
    "    album['album name']=album_name\n",
    "    if songs_number:\n",
    "        album['songs number']=songs_number\n",
    "    sing={}\n",
    "    sing[singer_name]=album"
   ]
  },
  {
   "cell_type": "code",
   "execution_count": 6,
   "metadata": {},
   "outputs": [
    {
     "name": "stdout",
     "output_type": "stream",
     "text": [
      "Hello, Zhangwenli!\n",
      "Hello, Zhangwen!\n",
      "Hello, Zhangli!\n"
     ]
    }
   ],
   "source": [
    "def greet_users(names):\n",
    "    for name in names:\n",
    "        print(\"Hello, \"+name.title()+\"!\")\n",
    "\n",
    "usernames=['zhangwenli','zhangwen','zhangli']\n",
    "greet_users(usernames)"
   ]
  },
  {
   "cell_type": "code",
   "execution_count": 7,
   "metadata": {},
   "outputs": [
    {
     "name": "stdout",
     "output_type": "stream",
     "text": [
      "Printing model: dodecahedron\n",
      "Printing model: robot pendant\n",
      "Printing model: iphone case\n",
      "\n",
      "The following models have been printed:\n",
      "['dodecahedron', 'robot pendant', 'iphone case']\n"
     ]
    }
   ],
   "source": [
    "unprinted_designs = ['iphone case', 'robot pendant', 'dodecahedron']\n",
    "completed_models = []\n",
    "\n",
    "while unprinted_designs:\n",
    "    current_design  =  unprinted_designs.pop()\n",
    "    print(\"Printing model: \"+current_design)\n",
    "    completed_models.append(current_design)\n",
    "\n",
    "print(\"\\nThe following models have been printed:\")\n",
    "print(completed_models)\n",
    "\n"
   ]
  },
  {
   "cell_type": "code",
   "execution_count": 9,
   "metadata": {},
   "outputs": [
    {
     "name": "stdout",
     "output_type": "stream",
     "text": [
      "Printing model: dodecahedron\n",
      "Printing model: robot pendant\n",
      "Printing model: iphone case\n",
      "\n",
      "The following models have been printed:\n",
      "dodecahedron\n",
      "robot pendant\n",
      "iphone case\n",
      "\n",
      "The following models have been printed:\n",
      "iphone case\n",
      "robot pendant\n",
      "dodecahedron\n"
     ]
    }
   ],
   "source": [
    "def print_models(unprinted_designs):\n",
    "    completed_models = []\n",
    "    while unprinted_designs:\n",
    "        current_design = unprinted_designs.pop()\n",
    "        print(\"Printing model: \"+current_design)\n",
    "        completed_models.append(current_design)\n",
    "    return completed_models\n",
    "\n",
    "def show_completed_models(completed_models):\n",
    "    print(\"\\nThe following models have been printed:\")\n",
    "    for completed_model in completed_models:\n",
    "        print(completed_model)\n",
    "\n",
    "unprinted_designs = ['iphone case', 'robot pendant', 'dodecahedron']\n",
    "completed_models = print_models(unprinted_designs[:])\n",
    "show_completed_models(completed_models)\n",
    "show_completed_models(unprinted_designs)"
   ]
  },
  {
   "cell_type": "code",
   "execution_count": 11,
   "metadata": {},
   "outputs": [
    {
     "name": "stdout",
     "output_type": "stream",
     "text": [
      "Zhangwenli\n",
      "Zhangwen\n",
      "Zhangli\n",
      "The Great Zhangli\n",
      "The Great Zhangwen\n",
      "The Great Zhangwenli\n",
      "Zhangwenli\n",
      "Zhangwen\n",
      "Zhangli\n"
     ]
    }
   ],
   "source": [
    "def show_magicians(magicians):\n",
    "    for magician in magicians:\n",
    "        print(magician.title())\n",
    "def make_great(magicians):\n",
    "    great_magicians=[]\n",
    "    while magicians:\n",
    "        magician=magicians.pop()\n",
    "        great_magicians.append(\"The great \" +magician)\n",
    "    return great_magicians\n",
    "\n",
    "\n",
    "magicians=['zhangwenli','zhangwen','zhangli']\n",
    "show_magicians(magicians)\n",
    "show_magicians(make_great(magicians[:]))\n",
    "show_magicians(magicians)"
   ]
  },
  {
   "cell_type": "code",
   "execution_count": 19,
   "metadata": {},
   "outputs": [
    {
     "name": "stdout",
     "output_type": "stream",
     "text": [
      "\n",
      "Making a 16-inch pizza with the following toppings:\n",
      "- pepperoni\n"
     ]
    }
   ],
   "source": [
    "def make_pizza(size,*toppings):\n",
    "    print(\"\\nMaking a \" +str(size)+\"-inch pizza with the following toppings:\")\n",
    "    for topping in toppings:\n",
    "        print(\"- \"+topping)\n",
    "\n",
    "make_pizza(16,'pepperoni')\n",
    "# make_pizza('mushrooms','green peppers','extra cheese')\n",
    "magicians=['zhangwenli','zhangwen','zhangli']\n",
    "# make_pizza(magicians)"
   ]
  },
  {
   "cell_type": "code",
   "execution_count": 18,
   "metadata": {},
   "outputs": [
    {
     "name": "stdout",
     "output_type": "stream",
     "text": [
      "4\n"
     ]
    }
   ],
   "source": [
    "tuplee=(range(1,5))\n",
    "print(tuplee[3])"
   ]
  },
  {
   "cell_type": "code",
   "execution_count": 21,
   "metadata": {},
   "outputs": [
    {
     "name": "stdout",
     "output_type": "stream",
     "text": [
      "{'first_name': 'zhang', 'last_name': 'wenli', 'location': 'beijing', 'field': 'computer'}\n"
     ]
    }
   ],
   "source": [
    "def user_profile(first_name,last_name,**user_info):\n",
    "    profile={}\n",
    "    profile['first_name']=first_name\n",
    "    profile['last_name']=last_name\n",
    "    for k,v in user_info.items():\n",
    "        profile[k]=v\n",
    "    return profile\n",
    "\n",
    "user_profile=user_profile('zhang','wenli',location='beijing',field='computer')\n",
    "print(user_profile)"
   ]
  },
  {
   "cell_type": "code",
   "execution_count": null,
   "metadata": {},
   "outputs": [],
   "source": [
    "def sand_wich(*toppings):\n",
    "    print(\"The sandwich has the following toppings:\")\n",
    "    for topping in toppings:\n",
    "        print(\"- \"+topping)"
   ]
  },
  {
   "cell_type": "code",
   "execution_count": 1,
   "metadata": {},
   "outputs": [
    {
     "name": "stdout",
     "output_type": "stream",
     "text": [
      "{'manufacturer': 'subaru', 'model': 'outback', 'color': 'blue', 'tow_package': True, 'year': 2015}\n"
     ]
    }
   ],
   "source": [
    "def car_information(manufacturer, model, **car_info):\n",
    "    car = {}\n",
    "    car['manufacturer'] = manufacturer\n",
    "    car['model'] = model\n",
    "    for k, v in car_info.items():\n",
    "        car[k] = v\n",
    "    return car\n",
    "\n",
    "\n",
    "car = car_information('subaru', 'outback', color='blue', tow_package=True,year=2015)\n",
    "print(car)"
   ]
  }
 ],
 "metadata": {
  "kernelspec": {
   "display_name": "Python 3",
   "language": "python",
   "name": "python3"
  },
  "language_info": {
   "codemirror_mode": {
    "name": "ipython",
    "version": 3
   },
   "file_extension": ".py",
   "mimetype": "text/x-python",
   "name": "python",
   "nbconvert_exporter": "python",
   "pygments_lexer": "ipython3",
   "version": "3.10.10"
  }
 },
 "nbformat": 4,
 "nbformat_minor": 2
}
